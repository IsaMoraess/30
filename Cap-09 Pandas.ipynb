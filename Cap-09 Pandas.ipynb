{
 "cells": [
  {
   "cell_type": "code",
   "execution_count": null,
   "id": "4ec62d41",
   "metadata": {},
   "outputs": [],
   "source": [
    "# Intalando a versão exata do pacote\n",
    "!pip install -q pandas==1.5.3"
   ]
  },
  {
   "cell_type": "code",
   "execution_count": null,
   "id": "014c27c5",
   "metadata": {},
   "outputs": [],
   "source": [
    "import pandas as pd"
   ]
  },
  {
   "cell_type": "code",
   "execution_count": null,
   "id": "dcc60862",
   "metadata": {},
   "outputs": [],
   "source": [
    "pd.__version__"
   ]
  },
  {
   "cell_type": "markdown",
   "id": "cb1aa4fb",
   "metadata": {},
   "source": [
    "#  Manipulando dados em DataFrames do Pandas"
   ]
  },
  {
   "cell_type": "code",
   "execution_count": null,
   "id": "d30a2682",
   "metadata": {},
   "outputs": [],
   "source": [
    "# Cria um dicionario\n",
    "dados = {'Estados':['Santa Catarina', 'Rio de Janeiro', 'Tocatins', 'Bahia', 'Minas Gerais'],\n",
    "        'Ano': [2004, 2005, 2006, 2007, 2008],\n",
    "        'Taxa Desemprego': [1.5, 1.7, 1.6, 2.4, 2.7]}"
   ]
  },
  {
   "cell_type": "code",
   "execution_count": null,
   "id": "6d9b3f2a",
   "metadata": {},
   "outputs": [],
   "source": [
    "# Importa a função DataFrame do pandas\n",
    "from pandas import DataFrame"
   ]
  },
  {
   "cell_type": "code",
   "execution_count": null,
   "id": "e6424f0f",
   "metadata": {},
   "outputs": [],
   "source": [
    "# Convertendo um dicionario em um DataFrame\n",
    "df = DataFrame(dados)"
   ]
  },
  {
   "cell_type": "code",
   "execution_count": null,
   "id": "a3e203bf",
   "metadata": {},
   "outputs": [],
   "source": [
    "# Vizualizar as 5 primeiras linhas\n",
    "df.head()"
   ]
  },
  {
   "cell_type": "code",
   "execution_count": null,
   "id": "a4f8b669",
   "metadata": {},
   "outputs": [],
   "source": [
    "type(df)"
   ]
  },
  {
   "cell_type": "code",
   "execution_count": null,
   "id": "07ea1127",
   "metadata": {},
   "outputs": [],
   "source": [
    "# Reorganizando as colunas\n",
    "DataFrame(dados, columns = ['Estados', 'Taxa desemprego', 'Ano'])"
   ]
  },
  {
   "cell_type": "code",
   "execution_count": null,
   "id": "e89c2e12",
   "metadata": {},
   "outputs": [],
   "source": [
    "# Criando outro dataframe com os mesmo dados anteriores mas adicionando uma coluna\n",
    "df2 = DataFrame(dados,\n",
    "                columns = ['Estado', 'Taxa Desemprego', 'Taxa de Crescimento' 'Ano'],\n",
    "                index = [ 'estado1', 'estado2', 'estado3', 'estado4', 'estado5'])"
   ]
  },
  {
   "cell_type": "code",
   "execution_count": null,
   "id": "8fba1406",
   "metadata": {},
   "outputs": [],
   "source": [
    "df2"
   ]
  },
  {
   "cell_type": "code",
   "execution_count": null,
   "id": "8afcda50",
   "metadata": {},
   "outputs": [],
   "source": [
    "df2.columns"
   ]
  }
 ],
 "metadata": {
  "kernelspec": {
   "display_name": "Python 3 (ipykernel)",
   "language": "python",
   "name": "python3"
  },
  "language_info": {
   "codemirror_mode": {
    "name": "ipython",
    "version": 3
   },
   "file_extension": ".py",
   "mimetype": "text/x-python",
   "name": "python",
   "nbconvert_exporter": "python",
   "pygments_lexer": "ipython3",
   "version": "3.9.13"
  }
 },
 "nbformat": 4,
 "nbformat_minor": 5
}
